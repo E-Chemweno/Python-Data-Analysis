{
 "cells": [
  {
   "cell_type": "markdown",
   "metadata": {},
   "source": [
    "Scraping Data from real website using pandas"
   ]
  },
  {
   "cell_type": "code",
   "execution_count": 2,
   "metadata": {},
   "outputs": [],
   "source": [
    "# Import the BeautifulSoup library for parsing HTML content\n",
    "from bs4 import BeautifulSoup\n",
    "\n",
    "# Import the requests library for making HTTP requests\n",
    "import requests"
   ]
  },
  {
   "cell_type": "code",
   "execution_count": 3,
   "metadata": {},
   "outputs": [],
   "source": [
    "# Define the URL of the webpage to scrape\n",
    "url = \"https://en.wikipedia.org/wiki/List_of_largest_companies_in_the_United_States_by_revenue\"\n",
    "\n",
    "# Send a GET request to the URL and store the response in the 'page' variable\n",
    "page = requests.get(url)\n",
    "\n",
    "# Parse the HTML content of the webpage using BeautifulSoup\n",
    "soup = BeautifulSoup(page.text, \"html\")\n"
   ]
  },
  {
   "cell_type": "code",
   "execution_count": null,
   "metadata": {},
   "outputs": [],
   "source": [
    "#This line of code prints the entire BeautifulSoup object 'soup'\n",
    "# to the console. The 'soup' object contains the parsed HTML\n",
    "print(soup)"
   ]
  },
  {
   "cell_type": "code",
   "execution_count": null,
   "metadata": {},
   "outputs": [],
   "source": [
    "# Retrieves all tables from the parsed HTML content using BeautifulSoup and selects the second table\n",
    "soup.find_all('table')[1]"
   ]
  },
  {
   "cell_type": "code",
   "execution_count": 9,
   "metadata": {},
   "outputs": [],
   "source": [
    "# Find all tables in the HTML content and selects the second table\n",
    "table = soup.find_all('table')[1]\n",
    "\n",
    "#This line of code prints the object table\n",
    "print(table)"
   ]
  },
  {
   "cell_type": "code",
   "execution_count": null,
   "metadata": {},
   "outputs": [],
   "source": [
    "# Extract all 'th' elements from the table object 'table' and store them in the list 'world_titles'\n",
    "world_titles = table.find_all('th')\n",
    "world_titles"
   ]
  },
  {
   "cell_type": "code",
   "execution_count": null,
   "metadata": {},
   "outputs": [],
   "source": [
    "# Extract the text content from each table title element and remove any leading or trailing whitespace\n",
    "world_table_titles = [title.text.strip() for title in world_titles]\n",
    "\n",
    "# Print the list of table titles\n",
    "print(world_table_titles)"
   ]
  },
  {
   "cell_type": "code",
   "execution_count": 20,
   "metadata": {},
   "outputs": [],
   "source": [
    "# Import the pandas library for data manipulation\n",
    "import pandas as pd"
   ]
  },
  {
   "cell_type": "code",
   "execution_count": null,
   "metadata": {},
   "outputs": [],
   "source": [
    "# Create an empty DataFrame with the specified column names\n",
    "df = pd.DataFrame(columns = world_table_titles)\n",
    "\n",
    "df"
   ]
  },
  {
   "cell_type": "code",
   "execution_count": 23,
   "metadata": {},
   "outputs": [],
   "source": [
    "# Retrieves all rows (represented by 'tr' HTML tags) from the specified table element\n",
    "column_data = table.find_all('tr')"
   ]
  },
  {
   "cell_type": "code",
   "execution_count": 29,
   "metadata": {},
   "outputs": [],
   "source": [
    "# Loop through each row in the column data, starting from the second row (skipping the first row)\n",
    "for row in column_data[1:]: #[1:] Is to skip the first row as it contains a blank\n",
    "    # Find all the table data (<td>) elements in the current row\n",
    "    row_data = row.find_all('td')\n",
    "\n",
    "    # Extract the text content from each table data element and strip any whitespace\n",
    "    individual_row_data = [data.text.strip() for data in row_data]\n",
    "    \n",
    "    # Get the current length of the DataFrame (number of rows)\n",
    "    length = len(df)\n",
    "\n",
    "    # Add the extracted data from the current row as a new row in the DataFrame\n",
    "    df.loc[length] = individual_row_data\n"
   ]
  },
  {
   "cell_type": "code",
   "execution_count": 32,
   "metadata": {},
   "outputs": [],
   "source": [
    "# Export the DataFrame to a CSV file named \"List of largest companies in the United States by revenue.csv\"\n",
    "# Save the file to the specified directory: C:\\Users\\CHEMWENO\\Documents\\VS Code Data Analysis\\\n",
    "# Set the index parameter to False to avoid including the index column in the CSV file\n",
    "df.to_csv(r'C:\\Users\\CHEMWENO\\Documents\\VS Code Data Analysis\\List of largest companies in the United States by revenue.csv', index = False)"
   ]
  }
 ],
 "metadata": {
  "kernelspec": {
   "display_name": "Python 3",
   "language": "python",
   "name": "python3"
  },
  "language_info": {
   "codemirror_mode": {
    "name": "ipython",
    "version": 3
   },
   "file_extension": ".py",
   "mimetype": "text/x-python",
   "name": "python",
   "nbconvert_exporter": "python",
   "pygments_lexer": "ipython3",
   "version": "3.12.0"
  }
 },
 "nbformat": 4,
 "nbformat_minor": 2
}
